{
 "cells": [
  {
   "cell_type": "markdown",
   "id": "da8bf402",
   "metadata": {},
   "source": [
    "# Implementation of Other Models"
   ]
  },
  {
   "cell_type": "code",
   "execution_count": 18,
   "id": "d11d3569",
   "metadata": {},
   "outputs": [],
   "source": [
    "# Load dataset\n",
    "import numpy as np\n",
    "import pandas as pd\n",
    "\n",
    "train_df = pd.read_csv(\"./dataset/train_tfidf_features.csv\")\n",
    "test_df = pd.read_csv(\"./dataset/test_tfidf_features.csv\")\n",
    "\n",
    "X_train = train_df.drop([\"id\", \"label\"], axis=1)\n",
    "y_train = train_df[\"label\"]\n",
    "X_test = test_df.drop([\"id\"], axis=1)\n",
    "\n",
    "import os\n",
    "if not os.path.exists('./predictions'):\n",
    "    os.makedirs('./predictions')\n",
    "\n",
    "def save_predictions(y_pred, filename):\n",
    "        output = pd.DataFrame({\"id\": test_df[\"id\"], \"label\": y_pred})\n",
    "        output.to_csv(filename, index=False)"
   ]
  },
  {
   "cell_type": "code",
   "execution_count": 19,
   "id": "c6cecc40",
   "metadata": {},
   "outputs": [],
   "source": [
    "# Functions for self-evaluation\n",
    "def accuracy(y_true, y_pred):\n",
    "    return np.sum(y_true == y_pred) / len(y_true)\n",
    "\n",
    "def f1_score(y_true, y_pred, class_label):\n",
    "    tp = np.sum((y_true == class_label) & (y_pred == class_label))\n",
    "    fp = np.sum((y_true != class_label) & (y_pred == class_label))\n",
    "    fn = np.sum((y_true == class_label) & (y_pred != class_label))\n",
    "    \n",
    "    if tp + 0.5 * (fp + fn) == 0:\n",
    "        return 0\n",
    "    \n",
    "    f1 = tp / (tp + 0.5 * (fp + fn))\n",
    "    return f1\n",
    "\n",
    "def macro_f1_score(y_true, y_pred):\n",
    "    f1_hateful = f1_score(y_true, y_pred, class_label=1)\n",
    "    f1_non_hateful = f1_score(y_true, y_pred, class_label=0)\n",
    "    return (f1_hateful + f1_non_hateful) / 2\n",
    "\n",
    "def self_evaluatation_training_set(y_train, y_train_pred):\n",
    "    print(\"Training set accuracy:\", accuracy(y_train, y_train_pred))\n",
    "    print(\"F1 Score for Hateful (class 1):\", f1_score(y_train, y_train_pred, 1))\n",
    "    print(\"F1 Score for Non-Hateful (class 0):\", f1_score(y_train, y_train_pred, 0))\n",
    "    print(\"Macro F1 Score:\", macro_f1_score(y_train, y_train_pred))"
   ]
  },
  {
   "cell_type": "code",
   "execution_count": 8,
   "id": "9c221b7e",
   "metadata": {},
   "outputs": [
    {
     "name": "stderr",
     "output_type": "stream",
     "text": [
      "c:\\Users\\brand\\anaconda3\\lib\\site-packages\\sklearn\\linear_model\\_logistic.py:458: ConvergenceWarning: lbfgs failed to converge (status=1):\n",
      "STOP: TOTAL NO. of ITERATIONS REACHED LIMIT.\n",
      "\n",
      "Increase the number of iterations (max_iter) or scale the data as shown in:\n",
      "    https://scikit-learn.org/stable/modules/preprocessing.html\n",
      "Please also refer to the documentation for alternative solver options:\n",
      "    https://scikit-learn.org/stable/modules/linear_model.html#logistic-regression\n",
      "  n_iter_i = _check_optimize_result(\n",
      "c:\\Users\\brand\\anaconda3\\lib\\site-packages\\sklearn\\linear_model\\_logistic.py:458: ConvergenceWarning: lbfgs failed to converge (status=1):\n",
      "STOP: TOTAL NO. of ITERATIONS REACHED LIMIT.\n",
      "\n",
      "Increase the number of iterations (max_iter) or scale the data as shown in:\n",
      "    https://scikit-learn.org/stable/modules/preprocessing.html\n",
      "Please also refer to the documentation for alternative solver options:\n",
      "    https://scikit-learn.org/stable/modules/linear_model.html#logistic-regression\n",
      "  n_iter_i = _check_optimize_result(\n",
      "c:\\Users\\brand\\anaconda3\\lib\\site-packages\\sklearn\\linear_model\\_logistic.py:458: ConvergenceWarning: lbfgs failed to converge (status=1):\n",
      "STOP: TOTAL NO. of ITERATIONS REACHED LIMIT.\n",
      "\n",
      "Increase the number of iterations (max_iter) or scale the data as shown in:\n",
      "    https://scikit-learn.org/stable/modules/preprocessing.html\n",
      "Please also refer to the documentation for alternative solver options:\n",
      "    https://scikit-learn.org/stable/modules/linear_model.html#logistic-regression\n",
      "  n_iter_i = _check_optimize_result(\n",
      "c:\\Users\\brand\\anaconda3\\lib\\site-packages\\sklearn\\linear_model\\_logistic.py:458: ConvergenceWarning: lbfgs failed to converge (status=1):\n",
      "STOP: TOTAL NO. of ITERATIONS REACHED LIMIT.\n",
      "\n",
      "Increase the number of iterations (max_iter) or scale the data as shown in:\n",
      "    https://scikit-learn.org/stable/modules/preprocessing.html\n",
      "Please also refer to the documentation for alternative solver options:\n",
      "    https://scikit-learn.org/stable/modules/linear_model.html#logistic-regression\n",
      "  n_iter_i = _check_optimize_result(\n",
      "c:\\Users\\brand\\anaconda3\\lib\\site-packages\\sklearn\\linear_model\\_logistic.py:458: ConvergenceWarning: lbfgs failed to converge (status=1):\n",
      "STOP: TOTAL NO. of ITERATIONS REACHED LIMIT.\n",
      "\n",
      "Increase the number of iterations (max_iter) or scale the data as shown in:\n",
      "    https://scikit-learn.org/stable/modules/preprocessing.html\n",
      "Please also refer to the documentation for alternative solver options:\n",
      "    https://scikit-learn.org/stable/modules/linear_model.html#logistic-regression\n",
      "  n_iter_i = _check_optimize_result(\n"
     ]
    },
    {
     "name": "stdout",
     "output_type": "stream",
     "text": [
      "Components: 2000\n",
      "Training set accuracy: 0.7832867783985102\n",
      "F1 Score for Hateful (class 1): 0.684085510688836\n",
      "F1 Score for Non-Hateful (class 0): 0.8350752878653676\n",
      "Macro F1 Score: 0.7595803992771017\n"
     ]
    },
    {
     "name": "stderr",
     "output_type": "stream",
     "text": [
      "c:\\Users\\brand\\anaconda3\\lib\\site-packages\\sklearn\\linear_model\\_logistic.py:458: ConvergenceWarning: lbfgs failed to converge (status=1):\n",
      "STOP: TOTAL NO. of ITERATIONS REACHED LIMIT.\n",
      "\n",
      "Increase the number of iterations (max_iter) or scale the data as shown in:\n",
      "    https://scikit-learn.org/stable/modules/preprocessing.html\n",
      "Please also refer to the documentation for alternative solver options:\n",
      "    https://scikit-learn.org/stable/modules/linear_model.html#logistic-regression\n",
      "  n_iter_i = _check_optimize_result(\n",
      "c:\\Users\\brand\\anaconda3\\lib\\site-packages\\sklearn\\linear_model\\_logistic.py:458: ConvergenceWarning: lbfgs failed to converge (status=1):\n",
      "STOP: TOTAL NO. of ITERATIONS REACHED LIMIT.\n",
      "\n",
      "Increase the number of iterations (max_iter) or scale the data as shown in:\n",
      "    https://scikit-learn.org/stable/modules/preprocessing.html\n",
      "Please also refer to the documentation for alternative solver options:\n",
      "    https://scikit-learn.org/stable/modules/linear_model.html#logistic-regression\n",
      "  n_iter_i = _check_optimize_result(\n",
      "c:\\Users\\brand\\anaconda3\\lib\\site-packages\\sklearn\\linear_model\\_logistic.py:458: ConvergenceWarning: lbfgs failed to converge (status=1):\n",
      "STOP: TOTAL NO. of ITERATIONS REACHED LIMIT.\n",
      "\n",
      "Increase the number of iterations (max_iter) or scale the data as shown in:\n",
      "    https://scikit-learn.org/stable/modules/preprocessing.html\n",
      "Please also refer to the documentation for alternative solver options:\n",
      "    https://scikit-learn.org/stable/modules/linear_model.html#logistic-regression\n",
      "  n_iter_i = _check_optimize_result(\n",
      "c:\\Users\\brand\\anaconda3\\lib\\site-packages\\sklearn\\linear_model\\_logistic.py:458: ConvergenceWarning: lbfgs failed to converge (status=1):\n",
      "STOP: TOTAL NO. of ITERATIONS REACHED LIMIT.\n",
      "\n",
      "Increase the number of iterations (max_iter) or scale the data as shown in:\n",
      "    https://scikit-learn.org/stable/modules/preprocessing.html\n",
      "Please also refer to the documentation for alternative solver options:\n",
      "    https://scikit-learn.org/stable/modules/linear_model.html#logistic-regression\n",
      "  n_iter_i = _check_optimize_result(\n"
     ]
    },
    {
     "name": "stdout",
     "output_type": "stream",
     "text": [
      "Components: 1000\n",
      "Training set accuracy: 0.7543063314711359\n",
      "F1 Score for Hateful (class 1): 0.6357832988267771\n",
      "F1 Score for Non-Hateful (class 0): 0.8146294344924482\n",
      "Macro F1 Score: 0.7252063666596127\n",
      "Components: 500\n",
      "Training set accuracy: 0.7371973929236499\n",
      "F1 Score for Hateful (class 1): 0.60886887233674\n",
      "F1 Score for Non-Hateful (class 0): 0.8021207606695294\n",
      "Macro F1 Score: 0.7054948165031347\n",
      "Components: 100\n",
      "Training set accuracy: 0.6881401303538175\n",
      "F1 Score for Hateful (class 1): 0.4970436414828719\n",
      "F1 Score for Non-Hateful (class 0): 0.7740058195926285\n",
      "Macro F1 Score: 0.6355247305377502\n"
     ]
    }
   ],
   "source": [
    "# PCA dimensionality reduction and logistic regression\n",
    "# 2000 components seems to be too many features as indicated in task 2, reduce to test 1000, 500 and 100 for less time complexity\n",
    "from sklearn.decomposition import PCA\n",
    "from sklearn.linear_model import LogisticRegressionCV\n",
    "\n",
    "components_list = [2000, 1000, 500, 100]\n",
    "log_reg_cv = LogisticRegressionCV(cv=5, random_state=0) # max_iter 1000 no dif\n",
    "\n",
    "for n_components in components_list:\n",
    "    pca = PCA(n_components=n_components)\n",
    "    X_train_pca = pca.fit_transform(X_train)\n",
    "    X_test_pca = pca.transform(X_test)\n",
    "\n",
    "    log_reg_cv.fit(X_train_pca, y_train)\n",
    "\n",
    "    y_pred = log_reg_cv.predict(X_test_pca)\n",
    "\n",
    "    # Self evaluation on training set\n",
    "    y_train_pred = log_reg_cv.predict(X_train_pca)\n",
    "    print(\"Components:\", n_components)\n",
    "    self_evaluatation_training_set(y_train, y_train_pred)\n",
    "\n",
    "    save_predictions(y_pred, f'./predictions/LogisticRegressionCV_PCA_{n_components}_components_Predictions.csv')\n"
   ]
  },
  {
   "cell_type": "code",
   "execution_count": 5,
   "id": "c8f663ea",
   "metadata": {},
   "outputs": [
    {
     "name": "stdout",
     "output_type": "stream",
     "text": [
      "Kernel: linear\n",
      "Training set accuracy: 0.7314944134078212\n",
      "F1 Score for Hateful (class 1): 0.5715081723625557\n",
      "F1 Score for Non-Hateful (class 0): 0.8044915254237288\n",
      "Macro F1 Score: 0.6879998488931423\n",
      "Kernel: poly\n",
      "Training set accuracy: 0.8564944134078212\n",
      "F1 Score for Hateful (class 1): 0.7715397443023903\n",
      "F1 Score for Non-Hateful (class 0): 0.8953932298294731\n",
      "Macro F1 Score: 0.8334664870659316\n",
      "Kernel: rbf\n",
      "Training set accuracy: 0.8780842644320298\n",
      "F1 Score for Hateful (class 1): 0.8254893794252395\n",
      "F1 Score for Non-Hateful (class 0): 0.9063184724768591\n",
      "Macro F1 Score: 0.8659039259510493\n",
      "Kernel: sigmoid\n",
      "Training set accuracy: 0.6504888268156425\n",
      "F1 Score for Hateful (class 1): 0.4891988433407042\n",
      "F1 Score for Non-Hateful (class 0): 0.7343653250773994\n",
      "Macro F1 Score: 0.6117820842090518\n"
     ]
    }
   ],
   "source": [
    "# PCA dimensionality reduction and SVM, as SVMs typically perform better with high-dimensional and unstructured datasets, such as image and text data, compared to logistic regression.\n",
    "from sklearn.decomposition import PCA\n",
    "from sklearn.svm import SVC\n",
    "\n",
    "pca = PCA(n_components=500)\n",
    "X_train_pca = pca.fit_transform(X_train)\n",
    "X_test_pca = pca.transform(X_test)\n",
    "\n",
    "kernels = ['linear', 'poly', 'rbf', 'sigmoid']\n",
    "\n",
    "for kernel in kernels:\n",
    "    svm = SVC(kernel=kernel, random_state=0)\n",
    "    svm.fit(X_train_pca, y_train)\n",
    "    \n",
    "    y_pred = svm.predict(X_test_pca)\n",
    "\n",
    "    # Self evaluation on training set\n",
    "    y_train_pred = svm.predict(X_train_pca)\n",
    "    print(\"Kernel:\", kernel)\n",
    "    self_evaluatation_training_set(y_train, y_train_pred)\n",
    "\n",
    "    save_predictions(y_pred, f'./predictions/SVM_PCA_500_components_{kernel}_Predictions.csv')"
   ]
  },
  {
   "cell_type": "code",
   "execution_count": null,
   "id": "b347fd1b",
   "metadata": {},
   "outputs": [],
   "source": [
    "# Decision Tree Classifier, no tuning\n",
    "from sklearn.tree import DecisionTreeClassifier\n",
    "\n",
    "decision_tree = DecisionTreeClassifier(random_state=0)\n",
    "decision_tree.fit(X_train, y_train)\n",
    "\n",
    "y_pred = decision_tree.predict(X_test)\n",
    "\n",
    "# Self evaluation on training set. Shows a lot of overfitting\n",
    "y_train_pred = decision_tree.predict(X_train)\n",
    "self_evaluatation_training_set(y_train, y_train_pred)\n",
    "\n",
    "save_predictions(y_pred, f'./predictions/DecisionTree_Predictions.csv')"
   ]
  },
  {
   "cell_type": "code",
   "execution_count": 15,
   "id": "c7867523",
   "metadata": {},
   "outputs": [],
   "source": [
    "# Decision Tree Classifier with max_depth after considering overfitting. Performs worse\n",
    "from sklearn.tree import DecisionTreeClassifier\n",
    "\n",
    "max_depth_values = [10, 100, 500]\n",
    "\n",
    "# Train and predict using Decision Tree for each max_depth value\n",
    "for max_depth in max_depth_values:\n",
    "    decision_tree = DecisionTreeClassifier(random_state=0, max_depth=max_depth)\n",
    "    decision_tree.fit(X_train, y_train)\n",
    "    \n",
    "    y_pred = decision_tree.predict(X_test)\n",
    "    \n",
    "    save_predictions(y_pred, f'./predictions/DecisionTree_max_depth_{max_depth}_Predictions.csv')"
   ]
  },
  {
   "cell_type": "code",
   "execution_count": 17,
   "id": "7faf421a",
   "metadata": {},
   "outputs": [
    {
     "name": "stdout",
     "output_type": "stream",
     "text": [
      "Training set accuracy: 0.996566573556797\n",
      "F1 Score for Hateful (class 1): 0.9954965269826731\n",
      "F1 Score for Non-Hateful (class 0): 0.9972257488127145\n",
      "Macro F1 Score: 0.9963611378976938\n",
      "Random Forest predictions saved to ./predictions/RandomForest_Predictions.csv\n"
     ]
    }
   ],
   "source": [
    "# Random Forest Implementation, no tuning\n",
    "from sklearn.ensemble import RandomForestClassifier\n",
    "\n",
    "rf = RandomForestClassifier(n_estimators=200, random_state=0)\n",
    "\n",
    "rf.fit(X_train, y_train)\n",
    "\n",
    "y_pred = rf.predict(X_test)\n",
    "\n",
    "# Self evaluation on training set\n",
    "y_train_pred = rf.predict(X_train)\n",
    "self_evaluatation_training_set(y_train, y_train_pred)\n",
    "\n",
    "save_predictions(y_pred, './predictions/RandomForest_Predictions.csv')"
   ]
  },
  {
   "cell_type": "code",
   "execution_count": 11,
   "id": "26f1adf5",
   "metadata": {},
   "outputs": [
    {
     "name": "stdout",
     "output_type": "stream",
     "text": [
      "Training set accuracy: 0.996566573556797\n",
      "F1 Score for Hateful (class 1): 0.9954951515614263\n",
      "F1 Score for Non-Hateful (class 0): 0.9972262705091439\n",
      "Macro F1 Score: 0.9963607110352851\n",
      "100 Estimators - Training set accuracy: 0.996566573556797\n",
      "100 Estimators - F1 Score for Hateful (class 1): 0.9954951515614263\n",
      "100 Estimators - F1 Score for Non-Hateful (class 0): 0.9972262705091439\n",
      "100 Estimators - Macro F1 Score: 0.9963607110352851\n"
     ]
    }
   ],
   "source": [
    "# Random Forest Implementation, no tuning\n",
    "from sklearn.ensemble import RandomForestClassifier\n",
    "\n",
    "rf = RandomForestClassifier(n_estimators=500, random_state=0)\n",
    "\n",
    "rf.fit(X_train, y_train)\n",
    "\n",
    "y_pred = rf.predict(X_test)\n",
    "\n",
    "# Self evaluation on training set\n",
    "y_train_pred = rf.predict(X_train)\n",
    "self_evaluatation_training_set(y_train, y_train_pred)\n",
    "\n",
    "save_predictions(y_pred, './predictions/RandomForest_500_Predictions.csv')\n",
    "\n",
    "# Random Forest with 100 estimators\n",
    "rf_1000 = RandomForestClassifier(n_estimators=100, random_state=0)\n",
    "rf_1000.fit(X_train, y_train)\n",
    "y_pred_1000 = rf_1000.predict(X_test)\n",
    "\n",
    "# Self evaluation on training set\n",
    "y_train_pred_100 = rf_1000.predict(X_train)\n",
    "self_evaluatation_training_set(y_train, y_train_pred)\n",
    "\n",
    "save_predictions(y_pred_1000, './predictions/RandomForest_1000_Predictions.csv')"
   ]
  },
  {
   "cell_type": "code",
   "execution_count": 4,
   "id": "f7e44d32",
   "metadata": {},
   "outputs": [
    {
     "name": "stdout",
     "output_type": "stream",
     "text": [
      "Fitting 3 folds for each of 20 candidates, totalling 60 fits\n",
      "Best Parameters: {'n_estimators': 200, 'min_samples_split': 10, 'min_samples_leaf': 1, 'max_depth': None}\n",
      "Training set accuracy: 0.9917946927374302\n",
      "F1 Score for Hateful (class 1): 0.9892358195282083\n",
      "F1 Score for Non-Hateful (class 0): 0.9933706333160939\n",
      "Macro F1 Score: 0.9913032264221511\n"
     ]
    }
   ],
   "source": [
    "# Random Forest Hyperparameter tuning\n",
    "from sklearn.ensemble import RandomForestClassifier\n",
    "from sklearn.model_selection import RandomizedSearchCV\n",
    "from sklearn.metrics import make_scorer, f1_score\n",
    "import numpy as np\n",
    "\n",
    "param_distributions = {\n",
    "    'n_estimators': [100, 200, 300],\n",
    "    'max_depth': [None, 10, 20, 30],\n",
    "    'min_samples_split': [2, 5, 10],\n",
    "    'min_samples_leaf': [1, 2, 4]\n",
    "}\n",
    "\n",
    "rf = RandomForestClassifier(random_state=0)\n",
    "\n",
    "scorer = make_scorer(f1_score, average='macro')\n",
    "\n",
    "random_search = RandomizedSearchCV(estimator=rf, param_distributions=param_distributions, \n",
    "                                   n_iter=20, cv=3, scoring=scorer, verbose=2, random_state=0, n_jobs=-1)\n",
    "\n",
    "random_search.fit(X_train, y_train)\n",
    "\n",
    "best_params = random_search.best_params_\n",
    "best_rf = random_search.best_estimator_\n",
    "\n",
    "print(\"Best Parameters:\", best_params)\n",
    "\n",
    "y_pred = best_rf.predict(X_test)\n",
    "\n",
    "save_predictions(y_pred, './predictions/RandomForest_Tuned_Predictions.csv')\n",
    "\n",
    "# Self evaluation on training set\n",
    "y_train_pred = best_rf.predict(X_train)\n",
    "self_evaluatation_training_set(y_train, y_train_pred)"
   ]
  },
  {
   "cell_type": "code",
   "execution_count": null,
   "id": "65db4eb8",
   "metadata": {},
   "outputs": [
    {
     "name": "stdout",
     "output_type": "stream",
     "text": [
      "Training set accuracy: 0.996566573556797\n",
      "F1 Score for Hateful (class 1): 0.9954903309638462\n",
      "F1 Score for Non-Hateful (class 0): 0.9972280949025135\n",
      "Macro F1 Score: 0.9963592129331799\n"
     ]
    }
   ],
   "source": [
    "# Decision Tree Classifier, no tuning\n",
    "from sklearn.tree import DecisionTreeClassifier\n",
    "\n",
    "decision_tree = DecisionTreeClassifier(random_state=0)\n",
    "decision_tree.fit(X_train, y_train)\n",
    "\n",
    "y_pred = decision_tree.predict(X_test)\n",
    "\n",
    "# Self evaluation on training set. Shows a lot of overfitting\n",
    "y_train_pred = decision_tree.predict(X_train)\n",
    "self_evaluatation_training_set(y_train, y_train_pred)\n",
    "\n",
    "save_predictions(y_pred, f'./predictions/DecisionTree_Predictions.csv')"
   ]
  },
  {
   "cell_type": "code",
   "execution_count": 8,
   "id": "272d0376",
   "metadata": {},
   "outputs": [
    {
     "name": "stdout",
     "output_type": "stream",
     "text": [
      "\n",
      "Training Random Forest with 100 estimators, 100 components\n",
      "Training set accuracy: 0.996566573556797\n",
      "F1 Score for Hateful (class 1): 0.9954965269826731\n",
      "F1 Score for Non-Hateful (class 0): 0.9972257488127145\n",
      "Macro F1 Score: 0.9963611378976938\n",
      "\n",
      "Training Random Forest with 200 estimators, 100 components\n",
      "Training set accuracy: 0.996566573556797\n",
      "F1 Score for Hateful (class 1): 0.9954937752997786\n",
      "F1 Score for Non-Hateful (class 0): 0.9972267920094007\n",
      "Macro F1 Score: 0.9963602836545896\n",
      "\n",
      "Training Random Forest with 300 estimators, 100 components\n",
      "Training set accuracy: 0.996566573556797\n",
      "F1 Score for Hateful (class 1): 0.9954979015642884\n",
      "F1 Score for Non-Hateful (class 0): 0.9972252269200019\n",
      "Macro F1 Score: 0.9963615642421452\n",
      "\n",
      "Training Random Forest with 100 estimators, 500 components\n",
      "Training set accuracy: 0.996566573556797\n",
      "F1 Score for Hateful (class 1): 0.9954972143783867\n",
      "F1 Score for Non-Hateful (class 0): 0.9972254878909005\n",
      "Macro F1 Score: 0.9963613511346436\n",
      "\n",
      "Training Random Forest with 200 estimators, 500 components\n",
      "Training set accuracy: 0.996566573556797\n",
      "F1 Score for Hateful (class 1): 0.9954965269826731\n",
      "F1 Score for Non-Hateful (class 0): 0.9972257488127145\n",
      "Macro F1 Score: 0.9963611378976938\n",
      "\n",
      "Training Random Forest with 300 estimators, 500 components\n",
      "Training set accuracy: 0.996566573556797\n",
      "F1 Score for Hateful (class 1): 0.9954965269826731\n",
      "F1 Score for Non-Hateful (class 0): 0.9972257488127145\n",
      "Macro F1 Score: 0.9963611378976938\n",
      "\n",
      "Training Random Forest with 100 estimators, 1000 components\n",
      "Training set accuracy: 0.996566573556797\n",
      "F1 Score for Hateful (class 1): 0.9954958393770517\n",
      "F1 Score for Non-Hateful (class 0): 0.9972260096854577\n",
      "Macro F1 Score: 0.9963609245312547\n",
      "\n",
      "Training Random Forest with 200 estimators, 1000 components\n",
      "Training set accuracy: 0.996566573556797\n",
      "F1 Score for Hateful (class 1): 0.9954958393770517\n",
      "F1 Score for Non-Hateful (class 0): 0.9972260096854577\n",
      "Macro F1 Score: 0.9963609245312547\n",
      "\n",
      "Training Random Forest with 300 estimators, 1000 components\n",
      "Training set accuracy: 0.996566573556797\n",
      "F1 Score for Hateful (class 1): 0.9954965269826731\n",
      "F1 Score for Non-Hateful (class 0): 0.9972257488127145\n",
      "Macro F1 Score: 0.9963611378976938\n"
     ]
    }
   ],
   "source": [
    "# PCA and random forest\n",
    "from sklearn.decomposition import PCA\n",
    "from sklearn.ensemble import RandomForestClassifier\n",
    "\n",
    "n_components_list = [100, 500, 1000]\n",
    "\n",
    "for n_components in n_components_list:\n",
    "    pca = PCA(n_components=n_components)\n",
    "    X_train_pca = pca.fit_transform(X_train)\n",
    "    X_test_pca = pca.transform(X_test)\n",
    "    \n",
    "    n_estimators_list = [100, 200, 300]\n",
    "    \n",
    "    for n_estimators in n_estimators_list:\n",
    "        print(f\"\\nTraining Random Forest with {n_estimators} estimators, {n_components} components\")\n",
    "        \n",
    "        # Random Forest Implementation\n",
    "        rf = RandomForestClassifier(n_estimators=n_estimators, random_state=0)\n",
    "        rf.fit(X_train_pca, y_train)\n",
    "        \n",
    "        y_pred = rf.predict(X_test_pca)\n",
    "        \n",
    "        # Self evaluation on training set\n",
    "        y_train_pred = rf.predict(X_train_pca)\n",
    "        self_evaluatation_training_set(y_train, y_train_pred)\n",
    "        \n",
    "        # Save predictions\n",
    "        save_predictions(y_pred, f'./predictions/RandomForest_Predictions_{n_components}_components_{n_estimators}_estimators.csv')"
   ]
  },
  {
   "cell_type": "code",
   "execution_count": 4,
   "id": "d28238fe",
   "metadata": {},
   "outputs": [
    {
     "name": "stderr",
     "output_type": "stream",
     "text": [
      "c:\\Users\\brand\\anaconda3\\lib\\site-packages\\xgboost\\core.py:158: UserWarning: [13:22:21] WARNING: C:\\buildkite-agent\\builds\\buildkite-windows-cpu-autoscaling-group-i-06abd128ca6c1688d-1\\xgboost\\xgboost-ci-windows\\src\\learner.cc:740: \n",
      "Parameters: { \"use_label_encoder\" } are not used.\n",
      "\n",
      "  warnings.warn(smsg, UserWarning)\n"
     ]
    },
    {
     "name": "stdout",
     "output_type": "stream",
     "text": [
      "Training set accuracy: 0.7852071694599627\n",
      "F1 Score for Hateful (class 1): 0.660909508497933\n",
      "F1 Score for Non-Hateful (class 0): 0.8428224673167823\n",
      "Macro F1 Score: 0.7518659879073577\n"
     ]
    }
   ],
   "source": [
    "# Gradient Boosting using XGBoost\n",
    "import xgboost as xgb\n",
    "\n",
    "xgb_model = xgb.XGBClassifier(random_state=0, use_label_encoder=False, eval_metric='logloss')\n",
    "xgb_model.fit(X_train, y_train)\n",
    "\n",
    "y_pred = xgb_model.predict(X_test)\n",
    "\n",
    "# Self evaluation on training set\n",
    "y_train_pred = xgb_model.predict(X_train)\n",
    "self_evaluatation_training_set(y_train, y_train_pred)\n",
    "\n",
    "save_predictions(y_pred, './predictions/XGBoost_Predictions.csv')"
   ]
  },
  {
   "cell_type": "code",
   "execution_count": 20,
   "id": "dafa6f50",
   "metadata": {},
   "outputs": [
    {
     "name": "stdout",
     "output_type": "stream",
     "text": [
      "\n",
      "Applying TSVD with 100 components\n"
     ]
    },
    {
     "ename": "KeyboardInterrupt",
     "evalue": "",
     "output_type": "error",
     "traceback": [
      "\u001b[1;31m---------------------------------------------------------------------------\u001b[0m",
      "\u001b[1;31mKeyboardInterrupt\u001b[0m                         Traceback (most recent call last)",
      "Cell \u001b[1;32mIn[20], line 11\u001b[0m\n\u001b[0;32m      8\u001b[0m \u001b[38;5;28mprint\u001b[39m(\u001b[38;5;124mf\u001b[39m\u001b[38;5;124m\"\u001b[39m\u001b[38;5;130;01m\\n\u001b[39;00m\u001b[38;5;124mApplying TSVD with \u001b[39m\u001b[38;5;132;01m{\u001b[39;00mn_components\u001b[38;5;132;01m}\u001b[39;00m\u001b[38;5;124m components\u001b[39m\u001b[38;5;124m\"\u001b[39m)\n\u001b[0;32m     10\u001b[0m tsvd \u001b[38;5;241m=\u001b[39m TruncatedSVD(n_components\u001b[38;5;241m=\u001b[39mn_components)\n\u001b[1;32m---> 11\u001b[0m X_train_tsvd \u001b[38;5;241m=\u001b[39m \u001b[43mtsvd\u001b[49m\u001b[38;5;241;43m.\u001b[39;49m\u001b[43mfit_transform\u001b[49m\u001b[43m(\u001b[49m\u001b[43mX_train\u001b[49m\u001b[43m)\u001b[49m\n\u001b[0;32m     12\u001b[0m X_test_tsvd \u001b[38;5;241m=\u001b[39m tsvd\u001b[38;5;241m.\u001b[39mtransform(X_test)\n\u001b[0;32m     14\u001b[0m \u001b[38;5;28mprint\u001b[39m(\u001b[38;5;124mf\u001b[39m\u001b[38;5;124m\"\u001b[39m\u001b[38;5;130;01m\\n\u001b[39;00m\u001b[38;5;124mTraining Logistic Regression with \u001b[39m\u001b[38;5;132;01m{\u001b[39;00mn_components\u001b[38;5;132;01m}\u001b[39;00m\u001b[38;5;124m TSVD components\u001b[39m\u001b[38;5;124m\"\u001b[39m)\n",
      "File \u001b[1;32mc:\\Users\\brand\\anaconda3\\lib\\site-packages\\sklearn\\utils\\_set_output.py:140\u001b[0m, in \u001b[0;36m_wrap_method_output.<locals>.wrapped\u001b[1;34m(self, X, *args, **kwargs)\u001b[0m\n\u001b[0;32m    138\u001b[0m \u001b[38;5;129m@wraps\u001b[39m(f)\n\u001b[0;32m    139\u001b[0m \u001b[38;5;28;01mdef\u001b[39;00m \u001b[38;5;21mwrapped\u001b[39m(\u001b[38;5;28mself\u001b[39m, X, \u001b[38;5;241m*\u001b[39margs, \u001b[38;5;241m*\u001b[39m\u001b[38;5;241m*\u001b[39mkwargs):\n\u001b[1;32m--> 140\u001b[0m     data_to_wrap \u001b[38;5;241m=\u001b[39m f(\u001b[38;5;28mself\u001b[39m, X, \u001b[38;5;241m*\u001b[39margs, \u001b[38;5;241m*\u001b[39m\u001b[38;5;241m*\u001b[39mkwargs)\n\u001b[0;32m    141\u001b[0m     \u001b[38;5;28;01mif\u001b[39;00m \u001b[38;5;28misinstance\u001b[39m(data_to_wrap, \u001b[38;5;28mtuple\u001b[39m):\n\u001b[0;32m    142\u001b[0m         \u001b[38;5;66;03m# only wrap the first output for cross decomposition\u001b[39;00m\n\u001b[0;32m    143\u001b[0m         \u001b[38;5;28;01mreturn\u001b[39;00m (\n\u001b[0;32m    144\u001b[0m             _wrap_data_with_container(method, data_to_wrap[\u001b[38;5;241m0\u001b[39m], X, \u001b[38;5;28mself\u001b[39m),\n\u001b[0;32m    145\u001b[0m             \u001b[38;5;241m*\u001b[39mdata_to_wrap[\u001b[38;5;241m1\u001b[39m:],\n\u001b[0;32m    146\u001b[0m         )\n",
      "File \u001b[1;32mc:\\Users\\brand\\anaconda3\\lib\\site-packages\\sklearn\\decomposition\\_truncated_svd.py:241\u001b[0m, in \u001b[0;36mTruncatedSVD.fit_transform\u001b[1;34m(self, X, y)\u001b[0m\n\u001b[0;32m    236\u001b[0m     \u001b[38;5;28;01mif\u001b[39;00m \u001b[38;5;28mself\u001b[39m\u001b[38;5;241m.\u001b[39mn_components \u001b[38;5;241m>\u001b[39m X\u001b[38;5;241m.\u001b[39mshape[\u001b[38;5;241m1\u001b[39m]:\n\u001b[0;32m    237\u001b[0m         \u001b[38;5;28;01mraise\u001b[39;00m \u001b[38;5;167;01mValueError\u001b[39;00m(\n\u001b[0;32m    238\u001b[0m             \u001b[38;5;124mf\u001b[39m\u001b[38;5;124m\"\u001b[39m\u001b[38;5;124mn_components(\u001b[39m\u001b[38;5;132;01m{\u001b[39;00m\u001b[38;5;28mself\u001b[39m\u001b[38;5;241m.\u001b[39mn_components\u001b[38;5;132;01m}\u001b[39;00m\u001b[38;5;124m) must be <=\u001b[39m\u001b[38;5;124m\"\u001b[39m\n\u001b[0;32m    239\u001b[0m             \u001b[38;5;124mf\u001b[39m\u001b[38;5;124m\"\u001b[39m\u001b[38;5;124m n_features(\u001b[39m\u001b[38;5;132;01m{\u001b[39;00mX\u001b[38;5;241m.\u001b[39mshape[\u001b[38;5;241m1\u001b[39m]\u001b[38;5;132;01m}\u001b[39;00m\u001b[38;5;124m).\u001b[39m\u001b[38;5;124m\"\u001b[39m\n\u001b[0;32m    240\u001b[0m         )\n\u001b[1;32m--> 241\u001b[0m     U, Sigma, VT \u001b[38;5;241m=\u001b[39m \u001b[43mrandomized_svd\u001b[49m\u001b[43m(\u001b[49m\n\u001b[0;32m    242\u001b[0m \u001b[43m        \u001b[49m\u001b[43mX\u001b[49m\u001b[43m,\u001b[49m\n\u001b[0;32m    243\u001b[0m \u001b[43m        \u001b[49m\u001b[38;5;28;43mself\u001b[39;49m\u001b[38;5;241;43m.\u001b[39;49m\u001b[43mn_components\u001b[49m\u001b[43m,\u001b[49m\n\u001b[0;32m    244\u001b[0m \u001b[43m        \u001b[49m\u001b[43mn_iter\u001b[49m\u001b[38;5;241;43m=\u001b[39;49m\u001b[38;5;28;43mself\u001b[39;49m\u001b[38;5;241;43m.\u001b[39;49m\u001b[43mn_iter\u001b[49m\u001b[43m,\u001b[49m\n\u001b[0;32m    245\u001b[0m \u001b[43m        \u001b[49m\u001b[43mn_oversamples\u001b[49m\u001b[38;5;241;43m=\u001b[39;49m\u001b[38;5;28;43mself\u001b[39;49m\u001b[38;5;241;43m.\u001b[39;49m\u001b[43mn_oversamples\u001b[49m\u001b[43m,\u001b[49m\n\u001b[0;32m    246\u001b[0m \u001b[43m        \u001b[49m\u001b[43mpower_iteration_normalizer\u001b[49m\u001b[38;5;241;43m=\u001b[39;49m\u001b[38;5;28;43mself\u001b[39;49m\u001b[38;5;241;43m.\u001b[39;49m\u001b[43mpower_iteration_normalizer\u001b[49m\u001b[43m,\u001b[49m\n\u001b[0;32m    247\u001b[0m \u001b[43m        \u001b[49m\u001b[43mrandom_state\u001b[49m\u001b[38;5;241;43m=\u001b[39;49m\u001b[43mrandom_state\u001b[49m\u001b[43m,\u001b[49m\n\u001b[0;32m    248\u001b[0m \u001b[43m    \u001b[49m\u001b[43m)\u001b[49m\n\u001b[0;32m    250\u001b[0m \u001b[38;5;28mself\u001b[39m\u001b[38;5;241m.\u001b[39mcomponents_ \u001b[38;5;241m=\u001b[39m VT\n\u001b[0;32m    252\u001b[0m \u001b[38;5;66;03m# As a result of the SVD approximation error on X ~ U @ Sigma @ V.T,\u001b[39;00m\n\u001b[0;32m    253\u001b[0m \u001b[38;5;66;03m# X @ V is not the same as U @ Sigma\u001b[39;00m\n",
      "File \u001b[1;32mc:\\Users\\brand\\anaconda3\\lib\\site-packages\\sklearn\\utils\\extmath.py:446\u001b[0m, in \u001b[0;36mrandomized_svd\u001b[1;34m(M, n_components, n_oversamples, n_iter, power_iteration_normalizer, transpose, flip_sign, random_state, svd_lapack_driver)\u001b[0m\n\u001b[0;32m    442\u001b[0m \u001b[38;5;28;01mif\u001b[39;00m transpose:\n\u001b[0;32m    443\u001b[0m     \u001b[38;5;66;03m# this implementation is a bit faster with smaller shape[1]\u001b[39;00m\n\u001b[0;32m    444\u001b[0m     M \u001b[38;5;241m=\u001b[39m M\u001b[38;5;241m.\u001b[39mT\n\u001b[1;32m--> 446\u001b[0m Q \u001b[38;5;241m=\u001b[39m \u001b[43mrandomized_range_finder\u001b[49m\u001b[43m(\u001b[49m\n\u001b[0;32m    447\u001b[0m \u001b[43m    \u001b[49m\u001b[43mM\u001b[49m\u001b[43m,\u001b[49m\n\u001b[0;32m    448\u001b[0m \u001b[43m    \u001b[49m\u001b[43msize\u001b[49m\u001b[38;5;241;43m=\u001b[39;49m\u001b[43mn_random\u001b[49m\u001b[43m,\u001b[49m\n\u001b[0;32m    449\u001b[0m \u001b[43m    \u001b[49m\u001b[43mn_iter\u001b[49m\u001b[38;5;241;43m=\u001b[39;49m\u001b[43mn_iter\u001b[49m\u001b[43m,\u001b[49m\n\u001b[0;32m    450\u001b[0m \u001b[43m    \u001b[49m\u001b[43mpower_iteration_normalizer\u001b[49m\u001b[38;5;241;43m=\u001b[39;49m\u001b[43mpower_iteration_normalizer\u001b[49m\u001b[43m,\u001b[49m\n\u001b[0;32m    451\u001b[0m \u001b[43m    \u001b[49m\u001b[43mrandom_state\u001b[49m\u001b[38;5;241;43m=\u001b[39;49m\u001b[43mrandom_state\u001b[49m\u001b[43m,\u001b[49m\n\u001b[0;32m    452\u001b[0m \u001b[43m\u001b[49m\u001b[43m)\u001b[49m\n\u001b[0;32m    454\u001b[0m \u001b[38;5;66;03m# project M to the (k + p) dimensional space using the basis vectors\u001b[39;00m\n\u001b[0;32m    455\u001b[0m B \u001b[38;5;241m=\u001b[39m safe_sparse_dot(Q\u001b[38;5;241m.\u001b[39mT, M)\n",
      "File \u001b[1;32mc:\\Users\\brand\\anaconda3\\lib\\site-packages\\sklearn\\utils\\extmath.py:282\u001b[0m, in \u001b[0;36mrandomized_range_finder\u001b[1;34m(A, size, n_iter, power_iteration_normalizer, random_state)\u001b[0m\n\u001b[0;32m    278\u001b[0m         Q, _ \u001b[38;5;241m=\u001b[39m linalg\u001b[38;5;241m.\u001b[39mqr(safe_sparse_dot(A\u001b[38;5;241m.\u001b[39mT, Q), mode\u001b[38;5;241m=\u001b[39m\u001b[38;5;124m\"\u001b[39m\u001b[38;5;124meconomic\u001b[39m\u001b[38;5;124m\"\u001b[39m)\n\u001b[0;32m    280\u001b[0m \u001b[38;5;66;03m# Sample the range of A using by linear projection of Q\u001b[39;00m\n\u001b[0;32m    281\u001b[0m \u001b[38;5;66;03m# Extract an orthonormal basis\u001b[39;00m\n\u001b[1;32m--> 282\u001b[0m Q, _ \u001b[38;5;241m=\u001b[39m linalg\u001b[38;5;241m.\u001b[39mqr(\u001b[43msafe_sparse_dot\u001b[49m\u001b[43m(\u001b[49m\u001b[43mA\u001b[49m\u001b[43m,\u001b[49m\u001b[43m \u001b[49m\u001b[43mQ\u001b[49m\u001b[43m)\u001b[49m, mode\u001b[38;5;241m=\u001b[39m\u001b[38;5;124m\"\u001b[39m\u001b[38;5;124meconomic\u001b[39m\u001b[38;5;124m\"\u001b[39m)\n\u001b[0;32m    284\u001b[0m \u001b[38;5;28;01mreturn\u001b[39;00m Q\n",
      "File \u001b[1;32mc:\\Users\\brand\\anaconda3\\lib\\site-packages\\sklearn\\utils\\extmath.py:189\u001b[0m, in \u001b[0;36msafe_sparse_dot\u001b[1;34m(a, b, dense_output)\u001b[0m\n\u001b[0;32m    187\u001b[0m         ret \u001b[38;5;241m=\u001b[39m np\u001b[38;5;241m.\u001b[39mdot(a, b)\n\u001b[0;32m    188\u001b[0m \u001b[38;5;28;01melse\u001b[39;00m:\n\u001b[1;32m--> 189\u001b[0m     ret \u001b[38;5;241m=\u001b[39m \u001b[43ma\u001b[49m\u001b[43m \u001b[49m\u001b[38;5;241;43m@\u001b[39;49m\u001b[43m \u001b[49m\u001b[43mb\u001b[49m\n\u001b[0;32m    191\u001b[0m \u001b[38;5;28;01mif\u001b[39;00m (\n\u001b[0;32m    192\u001b[0m     sparse\u001b[38;5;241m.\u001b[39missparse(a)\n\u001b[0;32m    193\u001b[0m     \u001b[38;5;129;01mand\u001b[39;00m sparse\u001b[38;5;241m.\u001b[39missparse(b)\n\u001b[0;32m    194\u001b[0m     \u001b[38;5;129;01mand\u001b[39;00m dense_output\n\u001b[0;32m    195\u001b[0m     \u001b[38;5;129;01mand\u001b[39;00m \u001b[38;5;28mhasattr\u001b[39m(ret, \u001b[38;5;124m\"\u001b[39m\u001b[38;5;124mtoarray\u001b[39m\u001b[38;5;124m\"\u001b[39m)\n\u001b[0;32m    196\u001b[0m ):\n\u001b[0;32m    197\u001b[0m     \u001b[38;5;28;01mreturn\u001b[39;00m ret\u001b[38;5;241m.\u001b[39mtoarray()\n",
      "\u001b[1;31mKeyboardInterrupt\u001b[0m: "
     ]
    }
   ],
   "source": [
    "# TORUN: TVSD and Logistic Regression\n",
    "from sklearn.linear_model import LogisticRegression\n",
    "from sklearn.decomposition import TruncatedSVD\n",
    "\n",
    "n_components_list = [100, 500, 1000]\n",
    "\n",
    "for n_components in n_components_list:\n",
    "    print(f\"\\nApplying TSVD with {n_components} components\")\n",
    "    \n",
    "    tsvd = TruncatedSVD(n_components=n_components)\n",
    "    X_train_tsvd = tsvd.fit_transform(X_train)\n",
    "    X_test_tsvd = tsvd.transform(X_test)\n",
    "    \n",
    "    print(f\"\\nTraining Logistic Regression with {n_components} TSVD components\")\n",
    "    \n",
    "    lr = LogisticRegression(random_state=0, max_iter=100)\n",
    "    lr.fit(X_train_tsvd, y_train)\n",
    "    \n",
    "    y_pred = lr.predict(X_test_tsvd)\n",
    "    \n",
    "    # Self evaluation on training set\n",
    "    y_train_pred = lr.predict(X_train_tsvd)\n",
    "    self_evaluatation_training_set(y_train, y_train_pred)\n",
    "    \n",
    "    save_predictions(y_pred, f'./predictions/LogisticRegression_Predictions_{n_components}_components.csv')"
   ]
  },
  {
   "cell_type": "code",
   "execution_count": null,
   "id": "f4cc19eb",
   "metadata": {},
   "outputs": [],
   "source": []
  }
 ],
 "metadata": {
  "kernelspec": {
   "display_name": "Python 3 (ipykernel)",
   "language": "python",
   "name": "python3"
  },
  "language_info": {
   "codemirror_mode": {
    "name": "ipython",
    "version": 3
   },
   "file_extension": ".py",
   "mimetype": "text/x-python",
   "name": "python",
   "nbconvert_exporter": "python",
   "pygments_lexer": "ipython3",
   "version": "3.9.16"
  }
 },
 "nbformat": 4,
 "nbformat_minor": 5
}
