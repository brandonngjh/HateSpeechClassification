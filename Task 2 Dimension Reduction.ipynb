{
 "cells": [
  {
   "cell_type": "code",
   "execution_count": 1,
   "id": "a3c388b5",
   "metadata": {},
   "outputs": [],
   "source": [
    "import numpy as np\n",
    "import pandas as pd\n",
    "from sklearn.decomposition import PCA\n",
    "from sklearn.neighbors import KNeighborsClassifier\n",
    "\n",
    "train_df = pd.read_csv(\"./dataset/train_tfidf_features.csv\")\n",
    "test_df = pd.read_csv(\"./dataset/test_tfidf_features.csv\")\n",
    "\n",
    "X_train = train_df.drop([\"id\", \"label\"], axis=1)\n",
    "y_train = train_df[\"label\"]\n",
    "X_test = test_df.drop([\"id\"], axis=1)"
   ]
  },
  {
   "cell_type": "code",
   "execution_count": 2,
   "id": "e7b29ef0",
   "metadata": {},
   "outputs": [],
   "source": [
    "components_list = [2000, 1000, 500, 100]\n",
    "\n",
    "for n_components in components_list:\n",
    "    pca = PCA(n_components=n_components)\n",
    "    X_train_pca = pca.fit_transform(X_train)\n",
    "    X_test_pca = pca.fit_transform(X_test)\n",
    "    \n",
    "    neigh = KNeighborsClassifier(n_neighbors=2)\n",
    "    neigh.fit(X_train_pca, y_train)\n",
    "    \n",
    "    y_pred = neigh.predict(X_test_pca)\n",
    "    \n",
    "    output = pd.DataFrame({\"id\": test_df[\"id\"], \"label\": y_pred})\n",
    "    output.to_csv(f\"./predictions/KNN_Predictions_{n_components}_components.csv\", index=False)"
   ]
  },
  {
   "cell_type": "code",
   "execution_count": null,
   "id": "3c6c8cfc",
   "metadata": {},
   "outputs": [],
   "source": []
  }
 ],
 "metadata": {
  "kernelspec": {
   "display_name": "Python 3 (ipykernel)",
   "language": "python",
   "name": "python3"
  },
  "language_info": {
   "codemirror_mode": {
    "name": "ipython",
    "version": 3
   },
   "file_extension": ".py",
   "mimetype": "text/x-python",
   "name": "python",
   "nbconvert_exporter": "python",
   "pygments_lexer": "ipython3",
   "version": "3.9.16"
  }
 },
 "nbformat": 4,
 "nbformat_minor": 5
}
