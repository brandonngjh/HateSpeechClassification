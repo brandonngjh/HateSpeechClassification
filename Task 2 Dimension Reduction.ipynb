{
 "cells": [
  {
   "cell_type": "markdown",
   "id": "c0510040",
   "metadata": {},
   "source": [
    "## Task 2: PCA Dimension Reduction"
   ]
  },
  {
   "cell_type": "code",
   "execution_count": 2,
   "id": "a3c388b5",
   "metadata": {},
   "outputs": [],
   "source": [
    "import numpy as np\n",
    "import pandas as pd\n",
    "from sklearn.decomposition import PCA\n",
    "from sklearn.neighbors import KNeighborsClassifier\n",
    "from sklearn.metrics import f1_score\n",
    "from sklearn.model_selection import train_test_split\n",
    "\n",
    "train_df = pd.read_csv(\"./dataset/train_tfidf_features.csv\")\n",
    "test_df = pd.read_csv(\"./dataset/test_tfidf_features.csv\")\n",
    "\n",
    "X_train = train_df.drop([\"id\", \"label\"], axis=1)\n",
    "y_train = train_df[\"label\"]\n",
    "X_test = test_df.drop([\"id\"], axis=1)\n",
    "\n",
    "X_train_split, X_val, y_train_split, y_val = train_test_split(X_train, y_train, test_size=0.2, random_state=42)"
   ]
  },
  {
   "cell_type": "code",
   "execution_count": 3,
   "id": "e7b29ef0",
   "metadata": {},
   "outputs": [
    {
     "name": "stdout",
     "output_type": "stream",
     "text": [
      "Components: 2000, F1 Score: 0.4858\n",
      "Components: 1000, F1 Score: 0.5881\n",
      "Components: 500, F1 Score: 0.5954\n",
      "Components: 100, F1 Score: 0.6031\n",
      "Results Summary:\n",
      "Number of components: 2000, F1 Score: 0.48576472368733437\n",
      "Number of components: 1000, F1 Score: 0.588069875239095\n",
      "Number of components: 500, F1 Score: 0.5954067618257358\n",
      "Number of components: 100, F1 Score: 0.6031241190672758\n"
     ]
    }
   ],
   "source": [
    "components_list = [2000, 1000, 500, 100]\n",
    "results = []\n",
    "\n",
    "for n_components in components_list:\n",
    "    pca = PCA(n_components=n_components)\n",
    "    X_train_pca = pca.fit_transform(X_train_split)\n",
    "    X_val_pca = pca.transform(X_val)\n",
    "    X_test_pca = pca.transform(X_test)\n",
    "    \n",
    "    neigh = KNeighborsClassifier(n_neighbors=2)\n",
    "    neigh.fit(X_train_pca, y_train_split)\n",
    "    \n",
    "    y_val_pred = neigh.predict(X_val_pca)\n",
    "    \n",
    "    f1 = f1_score(y_val, y_val_pred, average='weighted')\n",
    "    results.append((n_components, f1))\n",
    "    print(f\"Components: {n_components}, F1 Score: {f1:.4f}\")\n",
    "\n",
    "    y_test_pred = neigh.predict(X_test_pca)\n",
    "\n",
    "    output = pd.DataFrame({\"id\": test_df[\"id\"], \"label\": y_test_pred})\n",
    "    output.to_csv(f\"./predictions/KNN_Predictions_{n_components}_components.csv\", index=False)\n",
    "\n",
    "print(\"Results Summary:\")\n",
    "for n_components, f1 in results:\n",
    "    print(f\"Number of components: {n_components}, F1 Score: {f1}\")"
   ]
  }
 ],
 "metadata": {
  "kernelspec": {
   "display_name": "Python 3 (ipykernel)",
   "language": "python",
   "name": "python3"
  },
  "language_info": {
   "codemirror_mode": {
    "name": "ipython",
    "version": 3
   },
   "file_extension": ".py",
   "mimetype": "text/x-python",
   "name": "python",
   "nbconvert_exporter": "python",
   "pygments_lexer": "ipython3",
   "version": "3.9.16"
  }
 },
 "nbformat": 4,
 "nbformat_minor": 5
}
